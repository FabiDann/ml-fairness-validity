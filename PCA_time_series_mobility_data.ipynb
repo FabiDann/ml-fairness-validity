{
 "cells": [
  {
   "cell_type": "code",
   "execution_count": 1,
   "metadata": {},
   "outputs": [],
   "source": [
    "#I followed this tutorial to create the PCA: https://www.youtube.com/watch?v=oiusrJ0btwA\n",
    "# Repo: https://github.com/dataprofessor/code/blob/master/python/PCA_analysis.ipynb\n",
    "# Since it wasn't specific enough I had a look at this guide: \n",
    "#https://medium.com/@ansjin/dimensionality-reduction-using-pca-on-multivariate-timeseries-data-b5cc07238dc4\n",
    "%matplotlib inline\n",
    "import pandas as pd\n",
    "import numpy as np\n",
    "import matplotlib.pyplot as plt\n",
    "\n",
    "from sklearn.preprocessing import StandardScaler # for standardizing the Data\n",
    "from sklearn.decomposition import PCA # for PCA calculation\n",
    "from sklearn.preprocessing import LabelEncoder # to transform string values of the Data\n",
    "import matplotlib.pyplot as plt # for plotting"
   ]
  },
  {
   "cell_type": "code",
   "execution_count": 2,
   "metadata": {},
   "outputs": [],
   "source": [
    "#Preparing the data\n",
    "df = pd.read_csv('data/data_pca_statelevel.csv')\n",
    "lb = LabelEncoder()\n",
    "\n",
    "\n",
    "df['ds'] = lb.fit_transform(df['ds'])\n",
    "df['state'] = lb. fit_transform(df['state'])\n",
    "input_columns = list(df.columns)\n",
    "input_columns.remove('#cases')"
   ]
  },
  {
   "cell_type": "code",
   "execution_count": 3,
   "metadata": {},
   "outputs": [],
   "source": [
    "#Standardizing the data\n",
    "X = df[input_columns] # getting all values as a matrix of dataframe \n",
    "sc = StandardScaler() # creating a StandardScaler object\n",
    "X_std = sc.fit_transform(X) # standardizing the data"
   ]
  },
  {
   "cell_type": "code",
   "execution_count": 4,
   "metadata": {},
   "outputs": [],
   "source": [
    "#Apply PCA\n",
    "pca = PCA()\n",
    "X_pca = pca.fit(X_std)"
   ]
  },
  {
   "cell_type": "code",
   "execution_count": 5,
   "metadata": {},
   "outputs": [
    {
     "data": {
      "image/png": "[encoded data removed]",
      "text/plain": [
       "<Figure size 432x288 with 1 Axes>"
      ]
     },
     "metadata": {
      "needs_background": "light"
     },
     "output_type": "display_data"
    }
   ],
   "source": [
    "#Determine the number of components\n",
    "plt.plot(np.cumsum(pca.explained_variance_ratio_))\n",
    "plt.xlabel('number of components')\n",
    "plt.ylabel('cumulative explained variance');"
   ]
  },
  {
   "cell_type": "code",
   "execution_count": 6,
   "metadata": {},
   "outputs": [],
   "source": [
    "#Dimensionality Reduction: Now we know that we need about 20 components only, \n",
    "#so we can apply PCA with 20 components to get the reduced dataset.\n",
    "\n",
    "num_components = 20\n",
    "pca = PCA(num_components)  \n",
    "X_pca = pca.fit_transform(X_std) # fit and reduce dimension\n",
    "\n",
    "#Shorter version of previous steps:\n",
    "#pca = PCA(n_components = 0.99) #PCA will select the number of components such that the amount of variance that needs to be explained is greater than the percentage specified by n_components\n",
    "#X_pca = pca.fit_transform(X_std) # this will fit and reduce dimensions\n",
    "#print(pca.n_components_) # one can print and see how many components are selected. "
   ]
  },
  {
   "cell_type": "code",
   "execution_count": 7,
   "metadata": {},
   "outputs": [
    {
     "data": {
      "text/plain": [
       "['single_tile_users t-8',\n",
       " 'ds',\n",
       " 'retail_and_recreation t-9',\n",
       " 'transit_stations t-3',\n",
       " 'retail_and_recreation t-7',\n",
       " 'retail_and_recreation t-6',\n",
       " 'bing_tiles_visited t-5',\n",
       " 'transit_stations t-1',\n",
       " 'retail_and_recreation t-8',\n",
       " 'workplaces',\n",
       " 'retail_and_recreation t-10',\n",
       " 'retail_and_recreation t-5',\n",
       " 'residential t-10',\n",
       " 'retail_and_recreation t-5',\n",
       " 'residential t-10',\n",
       " 'grocery_and_pharmacy t-10',\n",
       " 'residential t-10',\n",
       " 'residential t-10',\n",
       " 'bing_tiles_visited t-2',\n",
       " 'grocery_and_pharmacy t-7']"
      ]
     },
     "execution_count": 7,
     "metadata": {},
     "output_type": "execute_result"
    }
   ],
   "source": [
    "#Finding the most important features set\n",
    "#pd.DataFrame(pca.components_, columns = df.columns) #uncomment to get the results displayed as a df\n",
    "\n",
    "#automated process of extracting important features\n",
    "n_pcs= pca.n_components_ # get number of component\n",
    "\n",
    "# get the index of the most important feature on EACH component\n",
    "most_important = [np.abs(pca.components_[i]).argmax() for i in range(n_pcs)]\n",
    "\n",
    "initial_feature_names = df.columns\n",
    "# get the most important feature names\n",
    "most_important_names = [initial_feature_names[most_important[i]] for i in range(n_pcs)]\n",
    "most_important_names"
   ]
  },
  {
   "cell_type": "code",
   "execution_count": null,
   "metadata": {},
   "outputs": [],
   "source": []
  }
 ],
 "metadata": {
  "kernelspec": {
   "display_name": "Python 3",
   "language": "python",
   "name": "python3"
  },
  "language_info": {
   "codemirror_mode": {
    "name": "ipython",
    "version": 3
   },
   "file_extension": ".py",
   "mimetype": "text/x-python",
   "name": "python",
   "nbconvert_exporter": "python",
   "pygments_lexer": "ipython3",
   "version": "3.7.6"
  }
 },
 "nbformat": 4,
 "nbformat_minor": 4
}
