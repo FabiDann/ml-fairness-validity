{
 "cells": [
  {
   "cell_type": "markdown",
   "metadata": {
    "slideshow": {
     "slide_type": "slide"
    }
   },
   "source": [
    "# Agenda\n",
    "\n",
    "- Setting\n",
    "\n",
    "- Motivation & Hypothesis"
   ]
  },
  {
   "cell_type": "markdown",
   "metadata": {
    "slideshow": {
     "slide_type": "notes"
    }
   },
   "source": [
    "- Build a setting: imagine the following scenario: hired from … to find leading factors for the spread of COVID-19/ evaluate possible political actions\n",
    "Motivation & hypothesis: Super-Spreading Events, American government wants to distribute vaccine? -> headline, OR headline: second wave – how can we avoid the numbers go up again?? > restrict mobility; mobility leading factor for infections = our hypothesis, display it with multi-spreading events, Heatmap of cases in Germany\n",
    "Searched for Data… description/statistics of the data – why take this data for our setting/problem \n",
    "[…] (our Solution, Methology/ learning approach, Training, blabla\n",
    "fake last slide with prognosis, interpretation, suggestions -> would you follow the advice?\n",
    "Discussion \n",
    "-> Re-Analysis, Issues\n",
    "Summary: how to do it, gold standard// similar flawed analysis on google & twitter\n",
    "\n",
    "Don't forget the Sildes Page numbers!\n",
    "\n",
    "https://www.markroepke.me/posts/2019/06/05/tips-for-slideshows-in-jupyter.html"
   ]
  },
  {
   "cell_type": "markdown",
   "metadata": {
    "slideshow": {
     "slide_type": "slide"
    }
   },
   "source": [
    "# Setting\n",
    "\n",
    "- Imagine the following scenario:\n",
    "\n",
    "\n",
    "<div id=\"background-img\" class=\"background-img\" >\n",
    "    <img src=\"https://png2.cleanpng.com/sh/57d2405960afb86ca19eda680fb97f3e/L0KzQYm3V8AzN5RueZH0aYP2gLBuTgBzd5h3ed92ZYKwc7F0kQV1baMyiOR4Z4Lkfb7wjvcudJZmitDybnewc73wkL1ieqUyTdQ8OXO2dYe7gfM2a2YzTKoAMEmzSYe4VcMxPWI3S6cDM0C5Q3B3jvc=/kisspng-programmer-computer-programming-learning-clip-art-5b39c3e64ac5c5.4850909615305123583063.png\" style=\"width: 300px;\">\n",
    "</div>"
   ]
  },
  {
   "cell_type": "code",
   "execution_count": null,
   "metadata": {},
   "outputs": [],
   "source": []
  }
 ],
 "metadata": {
  "celltoolbar": "Slideshow",
  "kernelspec": {
   "display_name": "Python 3",
   "language": "python",
   "name": "python3"
  },
  "language_info": {
   "codemirror_mode": {
    "name": "ipython",
    "version": 3
   },
   "file_extension": ".py",
   "mimetype": "text/x-python",
   "name": "python",
   "nbconvert_exporter": "python",
   "pygments_lexer": "ipython3",
   "version": "3.7.6"
  }
 },
 "nbformat": 4,
 "nbformat_minor": 4
}
