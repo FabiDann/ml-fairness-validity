{
 "cells": [
  {
   "cell_type": "markdown",
   "metadata": {
    "slideshow": {
     "slide_type": "slide"
    }
   },
   "source": [
    "<div id=\"background-img-logo-university\" class=\"background-img-top-left\" >\n",
    "    <img src=\"https://upload.wikimedia.org/wikipedia/commons/thumb/4/4e/Universit%C3%A4t_Leipzig_logo.svg/640px-Universit%C3%A4t_Leipzig_logo.svg.png\" style=\"width: 300px;\">\n",
    "</div>\n",
    "\n",
    "<br> \n",
    "# Validity & Fairness in Machine Learning\n",
    "## A Software Engineering Perspective\n",
    "\n",
    "<br>Leipzig, 09.09.2020\n",
    "<br>Christopher Akiki, Alina Mailach, Fabian Dannegger\n",
    "<br>Betreuer: Prof. Dr. Norbert Siegmund\n",
    "<br>Modul: Aktuelle Trends in Data Science\n",
    "\n",
    "\n",
    "\n"
   ]
  },
  {
   "cell_type": "markdown",
   "metadata": {
    "slideshow": {
     "slide_type": "slide"
    }
   },
   "source": [
    "# Agenda\n",
    "<br>\n",
    "\n",
    "- Setting\n",
    "- Motivation & Hypothesis\n",
    "- Exploring the Data\n",
    "- How we solved the problem\n",
    "- Interpretation & Advice\n",
    "- Discussion"
   ]
  },
  {
   "cell_type": "markdown",
   "metadata": {
    "slideshow": {
     "slide_type": "notes"
    }
   },
   "source": [
    "# Presentation-Notes\n",
    "- Build a setting: imagine the following scenario: hired from … to find leading factors for the spread of COVID-19/ evaluate possible political actions\n",
    "- Motivation & hypothesis: \n",
    "    - Super-Spreading Events, American government wants to distribute vaccine? -> headlines \n",
    "    - second wave – how can we avoid the numbers go up again?? -> restrict mobility; mobility leading factor for infections, display it with multi-spreading events (headlines), Heatmap of cases in Germany\n",
    "- Searched for Data… description/statistics of the data – why take this data for our setting/problem \n",
    "- […] (our Solution, Methology/ learning approach, Training, blabla; fake last slide with prognosis, interpretation, suggestions -> would you follow the advice?\n",
    "- Discussion \n",
    "- Re-Analysis, Issues\n",
    "- Summary: how to do it, gold standard// similar flawed analysis on google & twitter\n",
    "<br>\n",
    "Don't forget the Sildes Page numbers!\n",
    "\n",
    "https://www.markroepke.me/posts/2019/06/05/tips-for-slideshows-in-jupyter.html"
   ]
  },
  {
   "cell_type": "markdown",
   "metadata": {
    "slideshow": {
     "slide_type": "notes"
    }
   },
   "source": [
    "# Markdown\n",
    "- **[markdown.de](markdown.de)**: Markdown: Syntax\n",
    "- **[GitHub Guides](https://guides.github.com/features/mastering-markdown/)**: Mastering Markdown"
   ]
  },
  {
   "cell_type": "markdown",
   "metadata": {
    "slideshow": {
     "slide_type": "slide"
    }
   },
   "source": [
    "# Setting\n",
    "\n",
    "- Imagine the following scenario:\n",
    "<br>\n",
    "\n",
    "    - The RKI contacts you with the following question:\n",
    "        >What should we do about COVID-19?\n",
    "    \n",
    "    - Can you - as a data scientist - give them some advice?\n",
    "\n",
    "\n",
    "<div id=\"background-img-programmer\" class=\"background-img-bottom-right\" >\n",
    "    <img src=\"https://png2.cleanpng.com/sh/57d2405960afb86ca19eda680fb97f3e/L0KzQYm3V8AzN5RueZH0aYP2gLBuTgBzd5h3ed92ZYKwc7F0kQV1baMyiOR4Z4Lkfb7wjvcudJZmitDybnewc73wkL1ieqUyTdQ8OXO2dYe7gfM2a2YzTKoAMEmzSYe4VcMxPWI3S6cDM0C5Q3B3jvc=/kisspng-programmer-computer-programming-learning-clip-art-5b39c3e64ac5c5.4850909615305123583063.png\" style=\"width: 300px;\">\n",
    "</div>"
   ]
  },
  {
   "cell_type": "markdown",
   "metadata": {
    "slideshow": {
     "slide_type": "slide"
    }
   },
   "source": [
    "# Scenario 1: COVID-19 hot spots\n",
    "\n",
    "- Add dramatic headlines"
   ]
  },
  {
   "cell_type": "markdown",
   "metadata": {
    "slideshow": {
     "slide_type": "slide"
    }
   },
   "source": [
    "# Hypothesis\n",
    "\n",
    "#### Mobility is a leading factor of COVID-19 infections"
   ]
  },
  {
   "cell_type": "markdown",
   "metadata": {
    "slideshow": {
     "slide_type": "notes"
    }
   },
   "source": [
    "# Heatmap\n",
    "\n",
    "- **[pyGeoDb](https://pypi.org/project/pyGeoDb/)**: It is all about Austrian, German and Swiss postcodes (ZIPs) and city locations. documentation is in German language.\n",
    "- **[Google Fusion Tables](https://support.google.com/fusiontables/answer/2527132?hl=en)**: Create: a map"
   ]
  },
  {
   "cell_type": "code",
   "execution_count": null,
   "metadata": {
    "slideshow": {
     "slide_type": "notes"
    }
   },
   "outputs": [],
   "source": []
  }
 ],
 "metadata": {
  "celltoolbar": "Slideshow",
  "kernelspec": {
   "display_name": "Python 3",
   "language": "python",
   "name": "python3"
  },
  "language_info": {
   "codemirror_mode": {
    "name": "ipython",
    "version": 3
   },
   "file_extension": ".py",
   "mimetype": "text/x-python",
   "name": "python",
   "nbconvert_exporter": "python",
   "pygments_lexer": "ipython3",
   "version": "3.7.6"
  }
 },
 "nbformat": 4,
 "nbformat_minor": 4
}
